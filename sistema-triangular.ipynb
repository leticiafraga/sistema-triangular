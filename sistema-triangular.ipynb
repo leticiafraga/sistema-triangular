{
 "cells": [
  {
   "cell_type": "markdown",
   "metadata": {},
   "source": [
    "# Sistema Triangular\n",
    "Letícia Fraga\n",
    "\n",
    "# Documentação\n",
    "\n",
    "    \n",
    "    O programa deve resolver sistemas triangulares do tipo Ax = b de n incógnitas x e n termos independentes b, retornando o valor das incógnitas para o sistema dado.\n",
    "    O programa é composto por quatro funções:\n",
    "    \n",
    "   ### entrada(a, b)\n",
    "    Recebe uma lista de coeficientes (a) e uma com os n termos independentes (b). Ela verifica se não há erro no formato (ponto flutuante ou inteiro) ou entre a quantidade de elementos das duas listas. Se houver algum erro, retorna False. Senão, retorna True.\n",
    "    As funções incognitas(a, b) e imprimir(L, b, R) dependem dessa para receber os valores dos coeficientes e dos termos independentes\n",
    "    \n",
    "   ### linhas(a, b)\n",
    "    Separa os coeficientes pelo número de linhas de equações e retorna uma lista de tuplas, cada uma representando os coeficientes de uma equação do sistema. Não depende de nenhuma outra função.\n",
    "    \n",
    "   ### incognitas(a, b)\n",
    "    Retorna uma lista com o valor das incógnitas, é dependente da primeira e da segunda funções. Usei principalmente a função \"for i in range (len(lista))\" para realizar iterações com os valores.\n",
    "    \n",
    "   ### imprimir(L, b, R)\n",
    "    Se a entrada não tiver erros, imprime as equações do sistema triangular com todos os dados e imprime as incógnitas e seus valores, e é dependente das três funções acima.\n",
    "\n",
    "    O usuário pode chamar a função imprimir, com a lista de n*(n+1)/2 valores dos coeficientes \"a\" ordenados primeiro pelas linhas e depois pelas colunas, (ex: a11, a21, a22) como primeiro parâmetro e a lista de n termos independentes de uma matriz triangular inferior como segundo parâmetro. Se houver algum erro, será notificado.\n",
    "    As outras funções também podem ser chamadas separadamente. Se houver algum erro, incognitas(a, b) retornará uma lista vazia.\n",
    "\n",
    "\n",
    "# Programa:\n",
    "  ### "
   ]
  },
  {
   "cell_type": "code",
   "execution_count": 76,
   "metadata": {},
   "outputs": [],
   "source": [
    "\n",
    "# cria uma lista com n tuplas, cada uma com os coeficientes de uma linha\n",
    "def linhas(a, b):\n",
    "    \n",
    "    L = []\n",
    "   \n",
    "    for i in range (len(b)):\n",
    "\n",
    "        # separa a com base no número da linha\n",
    "        t = tuple(a[:(i+1)])\n",
    "        a = a[(i+1):]\n",
    "        L.append(t) \n",
    "    return L\n",
    "\n",
    "\n",
    "def entrada(a, b):\n",
    "    \n",
    "    \n",
    "    # verifica a quantidade e o formato das entradas\n",
    "    erro1 = False\n",
    "    for i in a:\n",
    "        if type(i) != int and type(i) != float:\n",
    "            print (\"Erro! A lista de coeficientes não tem somente valores. Tente novamente.\")\n",
    "            erro1 = True\n",
    "            break\n",
    "\n",
    "        \n",
    "    erro2 = False\n",
    "    for j in b:\n",
    "        if type(j) != int and type(j) != float:\n",
    "            print (\"Erro! A lista de termos independentes não tem somente valores. Tente novamente.\")\n",
    "            erro2 = True;\n",
    "            break\n",
    "        \n",
    "    # verifica se a quantidade de coeficientes e de termos independentes é compatível e se o primeiro \"a\" não é zero\n",
    "    erro3 = True     \n",
    "    if len(b)*(len(b)+1)/2 == len(a):\n",
    "        erro3 = False\n",
    "    else:\n",
    "        print (\"Erro! A quantidade de termos não é compatível com um sistema triangular. Tente novamente.\")\n",
    "    if a[0] == 0 : #para evitar divisão por zero\n",
    "        erro3 = True\n",
    "        print (\"Erro! Esse coeficiente não pode ser zero.\")\n",
    "    if erro1 == False and erro2 == False and erro3 == False:\n",
    "        \n",
    "        return True\n",
    "    else:\n",
    "        return False\n",
    "\n",
    "\n",
    "def incognitas(a, b):\n",
    "    \n",
    "    # lista de incognitas\n",
    "    R = [];\n",
    "    \n",
    "    if entrada(a, b):\n",
    "        # lista com n tuplas, cada uma com os coeficientes de uma linha\n",
    "        L = linhas(a, b)\n",
    "\n",
    "        # para encontrar a primeira incognita\n",
    "        l = b[0]/a[0] \n",
    "\n",
    "        R = [l] \n",
    "\n",
    "        # para encontrar as incognitas a partir da segunda\n",
    "        for linha in range(len(L)-1):\n",
    "            soma = 0\n",
    "            for i in range (len(L[linha])): \n",
    "                soma += L[linha + 1][i]*R[i]\n",
    "\n",
    "            res = (b[linha + 1] - soma)/L[linha + 1][-1]\n",
    "            R.append (res)\n",
    "\n",
    "    return R\n"
   ]
  },
  {
   "cell_type": "code",
   "execution_count": 60,
   "metadata": {},
   "outputs": [],
   "source": [
    "def imprimir(L, b, R):\n",
    "    \n",
    "    if R != []:\n",
    "    \n",
    "        print(\"\\nResultados:\")\n",
    "        for j in range (len(L)): #imprime o resultado\n",
    "            print (\"%s x %4.2f \" %(L[j][0], R[0]), end = \" \")\n",
    "            for i in range (len(L[j]) - 1):\n",
    "                print (\" + %s x %6.2f \" %(L[j][i+1], R[i+1]), end = \" \")\n",
    "\n",
    "            print (\" = %6.2f\" %(b[j]))\n",
    "        print ('')\n",
    "        print (\"Incógnitas:\")\n",
    "        for i in range (len(R)):\n",
    "            print (\"X(%d) = %6.2f\" % (i, R[i]))\n",
    "    return\n",
    "    "
   ]
  },
  {
   "cell_type": "markdown",
   "metadata": {},
   "source": [
    "# Testes"
   ]
  },
  {
   "cell_type": "code",
   "execution_count": 61,
   "metadata": {},
   "outputs": [
    {
     "name": "stdout",
     "output_type": "stream",
     "text": [
      "\n",
      "\n",
      "[3.0, -5.0]\n",
      "\n",
      "Resultados:\n",
      "1 x 3.00   =   3.00\n",
      "6 x 3.00   + 3 x  -5.00   =   3.00\n",
      "\n",
      "Incógnitas:\n",
      "X(0) =   3.00\n",
      "X(1) =  -5.00\n"
     ]
    }
   ],
   "source": [
    "a, b = [1,6,3], [3,3]\n",
    "\n",
    "print(\"\\n\")\n",
    "print(incognitas(a, b))\n",
    "\n",
    "imprimir(linhas (a, b), b, incognitas(a, b))\n"
   ]
  },
  {
   "cell_type": "code",
   "execution_count": 79,
   "metadata": {},
   "outputs": [
    {
     "name": "stdout",
     "output_type": "stream",
     "text": [
      "Erro! A quantidade de termos não é compatível com um sistema triangular. Tente novamente.\n"
     ]
    }
   ],
   "source": [
    "a, b = [1,2], [3,3]\n",
    "\n",
    "imprimir(linhas (a, b), b, incognitas(a, b))"
   ]
  },
  {
   "cell_type": "code",
   "execution_count": 78,
   "metadata": {},
   "outputs": [
    {
     "name": "stdout",
     "output_type": "stream",
     "text": [
      "Erro! A lista de termos independentes não tem somente valores. Tente novamente.\n"
     ]
    }
   ],
   "source": [
    "a, b = [1,2,9], [3,\"a\"]\n",
    "\n",
    "imprimir(linhas (a, b), b, incognitas(a, b))"
   ]
  },
  {
   "cell_type": "code",
   "execution_count": 80,
   "metadata": {},
   "outputs": [
    {
     "name": "stdout",
     "output_type": "stream",
     "text": [
      "Erro! A lista de coeficientes não tem somente valores. Tente novamente.\n",
      "Erro! A lista de termos independentes não tem somente valores. Tente novamente.\n"
     ]
    }
   ],
   "source": [
    "a, b = [1,2,\"c\"], [3,\"a\"]\n",
    "\n",
    "imprimir(linhas (a, b), b, incognitas(a, b))"
   ]
  }
 ],
 "metadata": {
  "kernelspec": {
   "display_name": "Python 3",
   "language": "python",
   "name": "python3"
  }
 },
 "nbformat": 4,
 "nbformat_minor": 2
}
